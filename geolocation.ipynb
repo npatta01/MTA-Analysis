{
 "cells": [
  {
   "cell_type": "code",
   "execution_count": 13,
   "metadata": {
    "collapsed": false
   },
   "outputs": [],
   "source": [
    "import glob, os\n",
    "import pandas as pd\n",
    "import csv\n",
    "import dateutil.parser\n",
    "%matplotlib inline\n",
    "import matplotlib\n",
    "import datetime\n",
    "import calendar\n",
    "import calendar\n",
    "import numpy as np\n",
    "import matplotlib.pyplot as plt\n",
    "matplotlib.style.use('ggplot')\n",
    "from geopy.geocoders import Nominatim"
   ]
  },
  {
   "cell_type": "code",
   "execution_count": 14,
   "metadata": {
    "collapsed": true
   },
   "outputs": [],
   "source": [
    "import sys  \n",
    "\n",
    "reload(sys)  \n",
    "sys.setdefaultencoding('utf8')"
   ]
  },
  {
   "cell_type": "markdown",
   "metadata": {},
   "source": [
    "# Station data"
   ]
  },
  {
   "cell_type": "markdown",
   "metadata": {},
   "source": [
    "Lets clean the mta station entrance data"
   ]
  },
  {
   "cell_type": "code",
   "execution_count": 15,
   "metadata": {
    "collapsed": false
   },
   "outputs": [],
   "source": [
    "station_df= pd.read_csv('geo/StationEntrances.csv')                      "
   ]
  },
  {
   "cell_type": "code",
   "execution_count": 16,
   "metadata": {
    "collapsed": false
   },
   "outputs": [
    {
     "data": {
      "text/html": [
       "<div>\n",
       "<table border=\"1\" class=\"dataframe\">\n",
       "  <thead>\n",
       "    <tr style=\"text-align: right;\">\n",
       "      <th></th>\n",
       "      <th>Division</th>\n",
       "      <th>Line</th>\n",
       "      <th>Station_Name</th>\n",
       "      <th>Station_Latitude</th>\n",
       "      <th>Station_Longitude</th>\n",
       "      <th>Route_1</th>\n",
       "      <th>Route_2</th>\n",
       "      <th>Route_3</th>\n",
       "      <th>Route_4</th>\n",
       "      <th>Route_5</th>\n",
       "      <th>...</th>\n",
       "      <th>Staffing</th>\n",
       "      <th>Staff_Hours</th>\n",
       "      <th>ADA</th>\n",
       "      <th>ADA_Notes</th>\n",
       "      <th>Free_Crossover</th>\n",
       "      <th>North_South_Street</th>\n",
       "      <th>East_West_Street</th>\n",
       "      <th>Corner</th>\n",
       "      <th>Latitude</th>\n",
       "      <th>Longitude</th>\n",
       "    </tr>\n",
       "  </thead>\n",
       "  <tbody>\n",
       "    <tr>\n",
       "      <th>0</th>\n",
       "      <td>BMT</td>\n",
       "      <td>Astoria</td>\n",
       "      <td>Ditmars Blvd</td>\n",
       "      <td>40.775036</td>\n",
       "      <td>-73.912034</td>\n",
       "      <td>N</td>\n",
       "      <td>Q</td>\n",
       "      <td>NaN</td>\n",
       "      <td>NaN</td>\n",
       "      <td>NaN</td>\n",
       "      <td>...</td>\n",
       "      <td>FULL</td>\n",
       "      <td>NaN</td>\n",
       "      <td>False</td>\n",
       "      <td>NaN</td>\n",
       "      <td>True</td>\n",
       "      <td>31st St</td>\n",
       "      <td>23rd Ave</td>\n",
       "      <td>NW</td>\n",
       "      <td>40.775149</td>\n",
       "      <td>-73.912074</td>\n",
       "    </tr>\n",
       "    <tr>\n",
       "      <th>1</th>\n",
       "      <td>BMT</td>\n",
       "      <td>Astoria</td>\n",
       "      <td>Ditmars Blvd</td>\n",
       "      <td>40.775036</td>\n",
       "      <td>-73.912034</td>\n",
       "      <td>N</td>\n",
       "      <td>Q</td>\n",
       "      <td>NaN</td>\n",
       "      <td>NaN</td>\n",
       "      <td>NaN</td>\n",
       "      <td>...</td>\n",
       "      <td>FULL</td>\n",
       "      <td>NaN</td>\n",
       "      <td>False</td>\n",
       "      <td>NaN</td>\n",
       "      <td>True</td>\n",
       "      <td>31st St</td>\n",
       "      <td>23rd Ave</td>\n",
       "      <td>NE</td>\n",
       "      <td>40.774810</td>\n",
       "      <td>-73.912151</td>\n",
       "    </tr>\n",
       "    <tr>\n",
       "      <th>2</th>\n",
       "      <td>BMT</td>\n",
       "      <td>Astoria</td>\n",
       "      <td>Ditmars Blvd</td>\n",
       "      <td>40.775036</td>\n",
       "      <td>-73.912034</td>\n",
       "      <td>N</td>\n",
       "      <td>Q</td>\n",
       "      <td>NaN</td>\n",
       "      <td>NaN</td>\n",
       "      <td>NaN</td>\n",
       "      <td>...</td>\n",
       "      <td>FULL</td>\n",
       "      <td>NaN</td>\n",
       "      <td>False</td>\n",
       "      <td>NaN</td>\n",
       "      <td>True</td>\n",
       "      <td>31st St</td>\n",
       "      <td>23rd Ave</td>\n",
       "      <td>NE</td>\n",
       "      <td>40.775025</td>\n",
       "      <td>-73.911891</td>\n",
       "    </tr>\n",
       "    <tr>\n",
       "      <th>3</th>\n",
       "      <td>BMT</td>\n",
       "      <td>Astoria</td>\n",
       "      <td>Ditmars Blvd</td>\n",
       "      <td>40.775036</td>\n",
       "      <td>-73.912034</td>\n",
       "      <td>N</td>\n",
       "      <td>Q</td>\n",
       "      <td>NaN</td>\n",
       "      <td>NaN</td>\n",
       "      <td>NaN</td>\n",
       "      <td>...</td>\n",
       "      <td>FULL</td>\n",
       "      <td>NaN</td>\n",
       "      <td>False</td>\n",
       "      <td>NaN</td>\n",
       "      <td>True</td>\n",
       "      <td>31st St</td>\n",
       "      <td>23rd Ave</td>\n",
       "      <td>NW</td>\n",
       "      <td>40.774938</td>\n",
       "      <td>-73.912337</td>\n",
       "    </tr>\n",
       "    <tr>\n",
       "      <th>4</th>\n",
       "      <td>BMT</td>\n",
       "      <td>Astoria</td>\n",
       "      <td>Astoria Blvd-Hoyt Av</td>\n",
       "      <td>40.770258</td>\n",
       "      <td>-73.917843</td>\n",
       "      <td>N</td>\n",
       "      <td>Q</td>\n",
       "      <td>NaN</td>\n",
       "      <td>NaN</td>\n",
       "      <td>NaN</td>\n",
       "      <td>...</td>\n",
       "      <td>FULL</td>\n",
       "      <td>NaN</td>\n",
       "      <td>False</td>\n",
       "      <td>NaN</td>\n",
       "      <td>True</td>\n",
       "      <td>31st St</td>\n",
       "      <td>Hoyt Ave South</td>\n",
       "      <td>SW</td>\n",
       "      <td>40.770313</td>\n",
       "      <td>-73.917978</td>\n",
       "    </tr>\n",
       "  </tbody>\n",
       "</table>\n",
       "<p>5 rows × 30 columns</p>\n",
       "</div>"
      ],
      "text/plain": [
       "  Division     Line          Station_Name  Station_Latitude  \\\n",
       "0      BMT  Astoria          Ditmars Blvd         40.775036   \n",
       "1      BMT  Astoria          Ditmars Blvd         40.775036   \n",
       "2      BMT  Astoria          Ditmars Blvd         40.775036   \n",
       "3      BMT  Astoria          Ditmars Blvd         40.775036   \n",
       "4      BMT  Astoria  Astoria Blvd-Hoyt Av         40.770258   \n",
       "\n",
       "   Station_Longitude Route_1 Route_2 Route_3 Route_4 Route_5    ...      \\\n",
       "0         -73.912034       N       Q     NaN     NaN     NaN    ...       \n",
       "1         -73.912034       N       Q     NaN     NaN     NaN    ...       \n",
       "2         -73.912034       N       Q     NaN     NaN     NaN    ...       \n",
       "3         -73.912034       N       Q     NaN     NaN     NaN    ...       \n",
       "4         -73.917843       N       Q     NaN     NaN     NaN    ...       \n",
       "\n",
       "  Staffing Staff_Hours    ADA  ADA_Notes  Free_Crossover  North_South_Street  \\\n",
       "0     FULL         NaN  False        NaN            True             31st St   \n",
       "1     FULL         NaN  False        NaN            True             31st St   \n",
       "2     FULL         NaN  False        NaN            True             31st St   \n",
       "3     FULL         NaN  False        NaN            True             31st St   \n",
       "4     FULL         NaN  False        NaN            True             31st St   \n",
       "\n",
       "  East_West_Street Corner   Latitude  Longitude  \n",
       "0         23rd Ave     NW  40.775149 -73.912074  \n",
       "1         23rd Ave     NE  40.774810 -73.912151  \n",
       "2         23rd Ave     NE  40.775025 -73.911891  \n",
       "3         23rd Ave     NW  40.774938 -73.912337  \n",
       "4   Hoyt Ave South     SW  40.770313 -73.917978  \n",
       "\n",
       "[5 rows x 30 columns]"
      ]
     },
     "execution_count": 16,
     "metadata": {},
     "output_type": "execute_result"
    }
   ],
   "source": [
    "station_df.head()"
   ]
  },
  {
   "cell_type": "code",
   "execution_count": 17,
   "metadata": {
    "collapsed": false
   },
   "outputs": [
    {
     "data": {
      "text/html": [
       "<div>\n",
       "<table border=\"1\" class=\"dataframe\">\n",
       "  <thead>\n",
       "    <tr style=\"text-align: right;\">\n",
       "      <th></th>\n",
       "      <th>Station_Name</th>\n",
       "      <th>Latitude</th>\n",
       "      <th>Longitude</th>\n",
       "    </tr>\n",
       "  </thead>\n",
       "  <tbody>\n",
       "    <tr>\n",
       "      <th>0</th>\n",
       "      <td>103rd St</td>\n",
       "      <td>40.749865</td>\n",
       "      <td>-73.968379</td>\n",
       "    </tr>\n",
       "    <tr>\n",
       "      <th>1</th>\n",
       "      <td>104th St-102nd St</td>\n",
       "      <td>40.695178</td>\n",
       "      <td>-73.844330</td>\n",
       "    </tr>\n",
       "    <tr>\n",
       "      <th>2</th>\n",
       "      <td>104th St-Oxford Av</td>\n",
       "      <td>40.681711</td>\n",
       "      <td>-73.837683</td>\n",
       "    </tr>\n",
       "    <tr>\n",
       "      <th>3</th>\n",
       "      <td>110th St</td>\n",
       "      <td>40.795020</td>\n",
       "      <td>-73.944250</td>\n",
       "    </tr>\n",
       "    <tr>\n",
       "      <th>4</th>\n",
       "      <td>110th St-Central Park North</td>\n",
       "      <td>40.799075</td>\n",
       "      <td>-73.951822</td>\n",
       "    </tr>\n",
       "  </tbody>\n",
       "</table>\n",
       "</div>"
      ],
      "text/plain": [
       "                  Station_Name   Latitude  Longitude\n",
       "0                     103rd St  40.749865 -73.968379\n",
       "1            104th St-102nd St  40.695178 -73.844330\n",
       "2           104th St-Oxford Av  40.681711 -73.837683\n",
       "3                     110th St  40.795020 -73.944250\n",
       "4  110th St-Central Park North  40.799075 -73.951822"
      ]
     },
     "execution_count": 17,
     "metadata": {},
     "output_type": "execute_result"
    }
   ],
   "source": [
    "stations_grouped=station_df.groupby('Station_Name').agg({'Station_Latitude':min,'Station_Longitude':min}) \n",
    "stations_grouped=stations_grouped.reset_index()\n",
    "stations_grouped=stations_grouped.rename(columns={'Station_Latitude':'Latitude','Station_Longitude':'Longitude'})\n",
    "stations_grouped.head()"
   ]
  },
  {
   "cell_type": "code",
   "execution_count": 18,
   "metadata": {
    "collapsed": false
   },
   "outputs": [],
   "source": [
    "stations_grouped.to_csv('geo/stations_geo.csv',index=False)"
   ]
  },
  {
   "cell_type": "markdown",
   "metadata": {},
   "source": [
    "# Company data"
   ]
  },
  {
   "cell_type": "markdown",
   "metadata": {},
   "source": [
    "Lets find the list of companies in ny"
   ]
  },
  {
   "cell_type": "code",
   "execution_count": 19,
   "metadata": {
    "collapsed": false
   },
   "outputs": [
    {
     "data": {
      "text/html": [
       "<div>\n",
       "<table border=\"1\" class=\"dataframe\">\n",
       "  <thead>\n",
       "    <tr style=\"text-align: right;\">\n",
       "      <th></th>\n",
       "      <th>company_name_id</th>\n",
       "      <th>company_name</th>\n",
       "      <th>url</th>\n",
       "      <th>year_founded</th>\n",
       "      <th>city</th>\n",
       "      <th>state</th>\n",
       "      <th>country</th>\n",
       "      <th>zip_code</th>\n",
       "      <th>full_time_employees</th>\n",
       "      <th>company_type</th>\n",
       "      <th>...</th>\n",
       "      <th>business_model</th>\n",
       "      <th>social_impact</th>\n",
       "      <th>description</th>\n",
       "      <th>description_short</th>\n",
       "      <th>source_count</th>\n",
       "      <th>data_types</th>\n",
       "      <th>example_uses</th>\n",
       "      <th>data_impacts</th>\n",
       "      <th>financial_info</th>\n",
       "      <th>last_updated</th>\n",
       "    </tr>\n",
       "  </thead>\n",
       "  <tbody>\n",
       "    <tr>\n",
       "      <th>0</th>\n",
       "      <td>3-round-stones-inc</td>\n",
       "      <td>3 Round Stones, Inc.</td>\n",
       "      <td>http://3RoundStones.com</td>\n",
       "      <td>2010</td>\n",
       "      <td>Washington</td>\n",
       "      <td>DC</td>\n",
       "      <td>us</td>\n",
       "      <td>20004</td>\n",
       "      <td>1-10</td>\n",
       "      <td>Private</td>\n",
       "      <td>...</td>\n",
       "      <td>Business to Business, Business to Consumer</td>\n",
       "      <td>NaN</td>\n",
       "      <td>3 Round Stones produces a platform for publish...</td>\n",
       "      <td>Our Open Source platform is used by the Fortun...</td>\n",
       "      <td>NaN</td>\n",
       "      <td>NaN</td>\n",
       "      <td>NaN</td>\n",
       "      <td>[]</td>\n",
       "      <td>3 Round Stones is a profitable, self-funded, w...</td>\n",
       "      <td>2014-11-12 14:44:25.969871</td>\n",
       "    </tr>\n",
       "    <tr>\n",
       "      <th>1</th>\n",
       "      <td>48-factoring-inc</td>\n",
       "      <td>48 Factoring Inc.</td>\n",
       "      <td>https://www.48factoring.com</td>\n",
       "      <td>2014</td>\n",
       "      <td>Philadelphia</td>\n",
       "      <td>PA</td>\n",
       "      <td>us</td>\n",
       "      <td>19087</td>\n",
       "      <td>51-200</td>\n",
       "      <td>Private</td>\n",
       "      <td>...</td>\n",
       "      <td>Business to Business</td>\n",
       "      <td>Small Business Owners</td>\n",
       "      <td>The company mission is to provide finance to s...</td>\n",
       "      <td>48 Factoring Inc. is one of the best financial...</td>\n",
       "      <td>11-50</td>\n",
       "      <td>Business</td>\n",
       "      <td>NaN</td>\n",
       "      <td>[u'Cost efficiency', u'Job growth', u'Revenue ...</td>\n",
       "      <td>NaN</td>\n",
       "      <td>2015-02-12 16:47:20.164268</td>\n",
       "    </tr>\n",
       "    <tr>\n",
       "      <th>2</th>\n",
       "      <td>5psolutions</td>\n",
       "      <td>5PSolutions</td>\n",
       "      <td>www.5psolutions.com</td>\n",
       "      <td>2007</td>\n",
       "      <td>Fairfax</td>\n",
       "      <td>VA</td>\n",
       "      <td>us</td>\n",
       "      <td>22003</td>\n",
       "      <td>1-10</td>\n",
       "      <td>Private</td>\n",
       "      <td>...</td>\n",
       "      <td>Business to Business, Business to Consumer, Bu...</td>\n",
       "      <td>NaN</td>\n",
       "      <td>At 5PSolutions, we wish to make all basic info...</td>\n",
       "      <td>5PSolutions are artisans of mobile platforms.</td>\n",
       "      <td>NaN</td>\n",
       "      <td>NaN</td>\n",
       "      <td>NaN</td>\n",
       "      <td>[]</td>\n",
       "      <td>NaN</td>\n",
       "      <td>2014-11-12 15:09:35.485949</td>\n",
       "    </tr>\n",
       "    <tr>\n",
       "      <th>3</th>\n",
       "      <td>abt-associates</td>\n",
       "      <td>Abt Associates</td>\n",
       "      <td>abtassoc.com</td>\n",
       "      <td>1965</td>\n",
       "      <td>Cambridge</td>\n",
       "      <td>MA</td>\n",
       "      <td>us</td>\n",
       "      <td>2138</td>\n",
       "      <td>1,001-5,000</td>\n",
       "      <td>Private</td>\n",
       "      <td>...</td>\n",
       "      <td>NaN</td>\n",
       "      <td>NaN</td>\n",
       "      <td>Abt Associates is a mission-driven, internatio...</td>\n",
       "      <td>Abt Associates is a mission-driven, global lea...</td>\n",
       "      <td>101+</td>\n",
       "      <td>NaN</td>\n",
       "      <td>NaN</td>\n",
       "      <td>[]</td>\n",
       "      <td>Employee-owned company. $552M/year.</td>\n",
       "      <td>2014-09-11 17:23:21.390289</td>\n",
       "    </tr>\n",
       "    <tr>\n",
       "      <th>4</th>\n",
       "      <td>accela</td>\n",
       "      <td>Accela</td>\n",
       "      <td>http://www.accela.com</td>\n",
       "      <td>1999</td>\n",
       "      <td>San Ramon</td>\n",
       "      <td>CA</td>\n",
       "      <td>us</td>\n",
       "      <td>94583</td>\n",
       "      <td>501-1,000</td>\n",
       "      <td>Private</td>\n",
       "      <td>...</td>\n",
       "      <td>Business to Consumer</td>\n",
       "      <td>Citizen engagement and participation, Good gov...</td>\n",
       "      <td>Accela powers thousands of services and millio...</td>\n",
       "      <td>Accela improves citizen engagement by making i...</td>\n",
       "      <td>101+</td>\n",
       "      <td>Health/Healthcare, Housing, Public Safety</td>\n",
       "      <td>NaN</td>\n",
       "      <td>[]</td>\n",
       "      <td>NaN</td>\n",
       "      <td>2014-09-16 16:30:49.172802</td>\n",
       "    </tr>\n",
       "  </tbody>\n",
       "</table>\n",
       "<p>5 rows × 22 columns</p>\n",
       "</div>"
      ],
      "text/plain": [
       "      company_name_id          company_name                          url  \\\n",
       "0  3-round-stones-inc  3 Round Stones, Inc.      http://3RoundStones.com   \n",
       "1    48-factoring-inc     48 Factoring Inc.  https://www.48factoring.com   \n",
       "2         5psolutions           5PSolutions          www.5psolutions.com   \n",
       "3      abt-associates        Abt Associates                 abtassoc.com   \n",
       "4              accela                Accela        http://www.accela.com   \n",
       "\n",
       "   year_founded           city state country  zip_code full_time_employees  \\\n",
       "0          2010     Washington    DC      us     20004                1-10   \n",
       "1          2014   Philadelphia    PA      us     19087              51-200   \n",
       "2          2007        Fairfax    VA      us     22003                1-10   \n",
       "3          1965      Cambridge    MA      us      2138         1,001-5,000   \n",
       "4          1999      San Ramon    CA      us     94583           501-1,000   \n",
       "\n",
       "  company_type             ...              \\\n",
       "0      Private             ...               \n",
       "1      Private             ...               \n",
       "2      Private             ...               \n",
       "3      Private             ...               \n",
       "4      Private             ...               \n",
       "\n",
       "                                      business_model  \\\n",
       "0         Business to Business, Business to Consumer   \n",
       "1                               Business to Business   \n",
       "2  Business to Business, Business to Consumer, Bu...   \n",
       "3                                                NaN   \n",
       "4                               Business to Consumer   \n",
       "\n",
       "                                       social_impact  \\\n",
       "0                                                NaN   \n",
       "1                              Small Business Owners   \n",
       "2                                                NaN   \n",
       "3                                                NaN   \n",
       "4  Citizen engagement and participation, Good gov...   \n",
       "\n",
       "                                         description  \\\n",
       "0  3 Round Stones produces a platform for publish...   \n",
       "1  The company mission is to provide finance to s...   \n",
       "2  At 5PSolutions, we wish to make all basic info...   \n",
       "3  Abt Associates is a mission-driven, internatio...   \n",
       "4  Accela powers thousands of services and millio...   \n",
       "\n",
       "                                   description_short source_count  \\\n",
       "0  Our Open Source platform is used by the Fortun...          NaN   \n",
       "1  48 Factoring Inc. is one of the best financial...        11-50   \n",
       "2      5PSolutions are artisans of mobile platforms.          NaN   \n",
       "3  Abt Associates is a mission-driven, global lea...         101+   \n",
       "4  Accela improves citizen engagement by making i...         101+   \n",
       "\n",
       "                                  data_types example_uses  \\\n",
       "0                                        NaN          NaN   \n",
       "1                                   Business          NaN   \n",
       "2                                        NaN          NaN   \n",
       "3                                        NaN          NaN   \n",
       "4  Health/Healthcare, Housing, Public Safety          NaN   \n",
       "\n",
       "                                        data_impacts  \\\n",
       "0                                                 []   \n",
       "1  [u'Cost efficiency', u'Job growth', u'Revenue ...   \n",
       "2                                                 []   \n",
       "3                                                 []   \n",
       "4                                                 []   \n",
       "\n",
       "                                      financial_info  \\\n",
       "0  3 Round Stones is a profitable, self-funded, w...   \n",
       "1                                                NaN   \n",
       "2                                                NaN   \n",
       "3                Employee-owned company. $552M/year.   \n",
       "4                                                NaN   \n",
       "\n",
       "                 last_updated  \n",
       "0  2014-11-12 14:44:25.969871  \n",
       "1  2015-02-12 16:47:20.164268  \n",
       "2  2014-11-12 15:09:35.485949  \n",
       "3  2014-09-11 17:23:21.390289  \n",
       "4  2014-09-16 16:30:49.172802  \n",
       "\n",
       "[5 rows x 22 columns]"
      ]
     },
     "execution_count": 19,
     "metadata": {},
     "output_type": "execute_result"
    }
   ],
   "source": [
    "company_df= pd.read_csv('geo/us_companies.csv')\n",
    "company_df.head()"
   ]
  },
  {
   "cell_type": "code",
   "execution_count": 20,
   "metadata": {
    "collapsed": true
   },
   "outputs": [],
   "source": [
    "ny_companies_df = company_df.loc[company_df['state']=='NY']"
   ]
  },
  {
   "cell_type": "code",
   "execution_count": 21,
   "metadata": {
    "collapsed": false
   },
   "outputs": [],
   "source": [
    "ny_companies_df=ny_companies_df[['company_name','url', 'year_founded','description','full_time_employees','zip_code']]"
   ]
  },
  {
   "cell_type": "markdown",
   "metadata": {},
   "source": [
    "geolocation"
   ]
  },
  {
   "cell_type": "code",
   "execution_count": 22,
   "metadata": {
    "collapsed": false
   },
   "outputs": [],
   "source": [
    "geolocator = Nominatim()\n",
    "location = geolocator.geocode(\"19114\")\n",
    "print((location.latitude, location.longitude))"
   ]
  },
  {
   "cell_type": "code",
   "execution_count": 23,
   "metadata": {
    "collapsed": true
   },
   "outputs": [],
   "source": [
    "geolocator = Nominatim()\n",
    "def zip_to_lat_long(zipcode):\n",
    "    location = geolocator.geocode(zipcode)\n",
    "    latitude=location.latitude\n",
    "    longitude=location.longitude\n",
    "    #return pd.Series({'latitude':latitude,'longitude':longitude})\n",
    "    return latitude,longitude"
   ]
  },
  {
   "cell_type": "code",
   "execution_count": 24,
   "metadata": {
    "collapsed": false
   },
   "outputs": [],
   "source": [
    "ny_companies_df['latitude'],ny_companies_df['longitude'] = zip(*ny_companies_df.zip_code.map(zip_to_lat_long))"
   ]
  },
  {
   "cell_type": "code",
   "execution_count": 25,
   "metadata": {
    "collapsed": false
   },
   "outputs": [
    {
     "data": {
      "text/html": [
       "<div>\n",
       "<table border=\"1\" class=\"dataframe\">\n",
       "  <thead>\n",
       "    <tr style=\"text-align: right;\">\n",
       "      <th></th>\n",
       "      <th>company_name</th>\n",
       "      <th>url</th>\n",
       "      <th>year_founded</th>\n",
       "      <th>description</th>\n",
       "      <th>full_time_employees</th>\n",
       "      <th>zip_code</th>\n",
       "      <th>latitude</th>\n",
       "      <th>longitude</th>\n",
       "    </tr>\n",
       "  </thead>\n",
       "  <tbody>\n",
       "    <tr>\n",
       "      <th>10</th>\n",
       "      <td>Aidin</td>\n",
       "      <td>http://www.myAidin.com</td>\n",
       "      <td>2011</td>\n",
       "      <td>Aidin helps hospitals and their patients choos...</td>\n",
       "      <td>1-10</td>\n",
       "      <td>10013</td>\n",
       "      <td>25.033144</td>\n",
       "      <td>121.517527</td>\n",
       "    </tr>\n",
       "    <tr>\n",
       "      <th>12</th>\n",
       "      <td>Allianz</td>\n",
       "      <td>http://www.allianzusa.com</td>\n",
       "      <td>1896</td>\n",
       "      <td>Allianz Life Insurance Company is a provider o...</td>\n",
       "      <td>10,001+</td>\n",
       "      <td>10019</td>\n",
       "      <td>45.381550</td>\n",
       "      <td>7.887893</td>\n",
       "    </tr>\n",
       "    <tr>\n",
       "      <th>25</th>\n",
       "      <td>AreaVibes Inc.</td>\n",
       "      <td>http://www.areavibes.com/</td>\n",
       "      <td>2009</td>\n",
       "      <td>AreaVibe works to provide you with everything ...</td>\n",
       "      <td>1-10</td>\n",
       "      <td>NaN</td>\n",
       "      <td>34.220389</td>\n",
       "      <td>70.380031</td>\n",
       "    </tr>\n",
       "    <tr>\n",
       "      <th>29</th>\n",
       "      <td>Asset4</td>\n",
       "      <td>asset4.com</td>\n",
       "      <td>2003</td>\n",
       "      <td>ASSET4 AG provides investment research informa...</td>\n",
       "      <td>51-200</td>\n",
       "      <td>10036</td>\n",
       "      <td>45.136780</td>\n",
       "      <td>7.762083</td>\n",
       "    </tr>\n",
       "    <tr>\n",
       "      <th>41</th>\n",
       "      <td>Be Informed</td>\n",
       "      <td>http://www.beinformed.com/BeInformed/website/e...</td>\n",
       "      <td>2006</td>\n",
       "      <td>Be Informed is an internationally operating, i...</td>\n",
       "      <td>51-200</td>\n",
       "      <td>10022</td>\n",
       "      <td>44.849031</td>\n",
       "      <td>7.734883</td>\n",
       "    </tr>\n",
       "  </tbody>\n",
       "</table>\n",
       "</div>"
      ],
      "text/plain": [
       "      company_name                                                url  \\\n",
       "10           Aidin                             http://www.myAidin.com   \n",
       "12         Allianz                          http://www.allianzusa.com   \n",
       "25  AreaVibes Inc.                          http://www.areavibes.com/   \n",
       "29          Asset4                                         asset4.com   \n",
       "41     Be Informed  http://www.beinformed.com/BeInformed/website/e...   \n",
       "\n",
       "    year_founded                                        description  \\\n",
       "10          2011  Aidin helps hospitals and their patients choos...   \n",
       "12          1896  Allianz Life Insurance Company is a provider o...   \n",
       "25          2009  AreaVibe works to provide you with everything ...   \n",
       "29          2003  ASSET4 AG provides investment research informa...   \n",
       "41          2006  Be Informed is an internationally operating, i...   \n",
       "\n",
       "   full_time_employees  zip_code   latitude   longitude  \n",
       "10                1-10     10013  25.033144  121.517527  \n",
       "12             10,001+     10019  45.381550    7.887893  \n",
       "25                1-10       NaN  34.220389   70.380031  \n",
       "29              51-200     10036  45.136780    7.762083  \n",
       "41              51-200     10022  44.849031    7.734883  "
      ]
     },
     "execution_count": 25,
     "metadata": {},
     "output_type": "execute_result"
    }
   ],
   "source": [
    "ny_companies_df.head()"
   ]
  },
  {
   "cell_type": "code",
   "execution_count": 26,
   "metadata": {
    "collapsed": false
   },
   "outputs": [],
   "source": [
    "ny_companies_df.to_csv('geo/companies_geo.csv',index=False)"
   ]
  },
  {
   "cell_type": "code",
   "execution_count": null,
   "metadata": {
    "collapsed": true
   },
   "outputs": [],
   "source": []
  },
  {
   "cell_type": "markdown",
   "metadata": {},
   "source": [
    "# Restaurants"
   ]
  },
  {
   "cell_type": "code",
   "execution_count": 27,
   "metadata": {
    "collapsed": false
   },
   "outputs": [],
   "source": [
    "rest_geo_df=pd.read_csv('geo/NYC_Geocoded_Restaurant_Locations.csv')"
   ]
  },
  {
   "cell_type": "code",
   "execution_count": 28,
   "metadata": {
    "collapsed": false
   },
   "outputs": [
    {
     "data": {
      "text/html": [
       "<div>\n",
       "<table border=\"1\" class=\"dataframe\">\n",
       "  <thead>\n",
       "    <tr style=\"text-align: right;\">\n",
       "      <th></th>\n",
       "      <th>CAMIS</th>\n",
       "      <th>Longitude</th>\n",
       "      <th>Latitude</th>\n",
       "      <th>Source</th>\n",
       "      <th>Dataset Date</th>\n",
       "    </tr>\n",
       "  </thead>\n",
       "  <tbody>\n",
       "    <tr>\n",
       "      <th>0</th>\n",
       "      <td>41670166</td>\n",
       "      <td>-73.973873</td>\n",
       "      <td>40.686146</td>\n",
       "      <td>TIGER/ArcMap</td>\n",
       "      <td>5/15/2015</td>\n",
       "    </tr>\n",
       "    <tr>\n",
       "      <th>1</th>\n",
       "      <td>41670151</td>\n",
       "      <td>-73.981241</td>\n",
       "      <td>40.763977</td>\n",
       "      <td>TIGER/ArcMap</td>\n",
       "      <td>5/15/2015</td>\n",
       "    </tr>\n",
       "    <tr>\n",
       "      <th>2</th>\n",
       "      <td>41670042</td>\n",
       "      <td>-73.952571</td>\n",
       "      <td>40.586910</td>\n",
       "      <td>TIGER/ArcMap</td>\n",
       "      <td>5/15/2015</td>\n",
       "    </tr>\n",
       "    <tr>\n",
       "      <th>3</th>\n",
       "      <td>41670066</td>\n",
       "      <td>-73.990436</td>\n",
       "      <td>40.771542</td>\n",
       "      <td>TIGER/ArcMap</td>\n",
       "      <td>5/15/2015</td>\n",
       "    </tr>\n",
       "    <tr>\n",
       "      <th>4</th>\n",
       "      <td>41670188</td>\n",
       "      <td>-73.899113</td>\n",
       "      <td>40.825874</td>\n",
       "      <td>TIGER/ArcMap</td>\n",
       "      <td>5/15/2015</td>\n",
       "    </tr>\n",
       "  </tbody>\n",
       "</table>\n",
       "</div>"
      ],
      "text/plain": [
       "      CAMIS  Longitude   Latitude        Source Dataset Date\n",
       "0  41670166 -73.973873  40.686146  TIGER/ArcMap    5/15/2015\n",
       "1  41670151 -73.981241  40.763977  TIGER/ArcMap    5/15/2015\n",
       "2  41670042 -73.952571  40.586910  TIGER/ArcMap    5/15/2015\n",
       "3  41670066 -73.990436  40.771542  TIGER/ArcMap    5/15/2015\n",
       "4  41670188 -73.899113  40.825874  TIGER/ArcMap    5/15/2015"
      ]
     },
     "execution_count": 28,
     "metadata": {},
     "output_type": "execute_result"
    }
   ],
   "source": [
    "rest_geo_df.head()"
   ]
  },
  {
   "cell_type": "code",
   "execution_count": 29,
   "metadata": {
    "collapsed": false
   },
   "outputs": [
    {
     "ename": "IOError",
     "evalue": "File geo/DOHMH_New_York_City_Restaurant_Inspection_Results.csv does not exist",
     "output_type": "error",
     "traceback": [
      "\u001b[1;31m---------------------------------------------------------------------------\u001b[0m",
      "\u001b[1;31mIOError\u001b[0m                                   Traceback (most recent call last)",
      "\u001b[1;32m<ipython-input-29-29870aee2fb3>\u001b[0m in \u001b[0;36m<module>\u001b[1;34m()\u001b[0m\n\u001b[1;32m----> 1\u001b[1;33m \u001b[0mrest_name_df\u001b[0m\u001b[1;33m=\u001b[0m\u001b[0mpd\u001b[0m\u001b[1;33m.\u001b[0m\u001b[0mread_csv\u001b[0m\u001b[1;33m(\u001b[0m\u001b[1;34m'geo/DOHMH_New_York_City_Restaurant_Inspection_Results.csv'\u001b[0m\u001b[1;33m)\u001b[0m\u001b[1;33m\u001b[0m\u001b[0m\n\u001b[0m",
      "\u001b[1;32mC:\\Anaconda\\envs\\py27\\lib\\site-packages\\pandas\\io\\parsers.pyc\u001b[0m in \u001b[0;36mparser_f\u001b[1;34m(filepath_or_buffer, sep, dialect, compression, doublequote, escapechar, quotechar, quoting, skipinitialspace, lineterminator, header, index_col, names, prefix, skiprows, skipfooter, skip_footer, na_values, na_fvalues, true_values, false_values, delimiter, converters, dtype, usecols, engine, delim_whitespace, as_recarray, na_filter, compact_ints, use_unsigned, low_memory, buffer_lines, warn_bad_lines, error_bad_lines, keep_default_na, thousands, comment, decimal, parse_dates, keep_date_col, dayfirst, date_parser, memory_map, float_precision, nrows, iterator, chunksize, verbose, encoding, squeeze, mangle_dupe_cols, tupleize_cols, infer_datetime_format, skip_blank_lines)\u001b[0m\n\u001b[0;32m    472\u001b[0m                     skip_blank_lines=skip_blank_lines)\n\u001b[0;32m    473\u001b[0m \u001b[1;33m\u001b[0m\u001b[0m\n\u001b[1;32m--> 474\u001b[1;33m         \u001b[1;32mreturn\u001b[0m \u001b[0m_read\u001b[0m\u001b[1;33m(\u001b[0m\u001b[0mfilepath_or_buffer\u001b[0m\u001b[1;33m,\u001b[0m \u001b[0mkwds\u001b[0m\u001b[1;33m)\u001b[0m\u001b[1;33m\u001b[0m\u001b[0m\n\u001b[0m\u001b[0;32m    475\u001b[0m \u001b[1;33m\u001b[0m\u001b[0m\n\u001b[0;32m    476\u001b[0m     \u001b[0mparser_f\u001b[0m\u001b[1;33m.\u001b[0m\u001b[0m__name__\u001b[0m \u001b[1;33m=\u001b[0m \u001b[0mname\u001b[0m\u001b[1;33m\u001b[0m\u001b[0m\n",
      "\u001b[1;32mC:\\Anaconda\\envs\\py27\\lib\\site-packages\\pandas\\io\\parsers.pyc\u001b[0m in \u001b[0;36m_read\u001b[1;34m(filepath_or_buffer, kwds)\u001b[0m\n\u001b[0;32m    248\u001b[0m \u001b[1;33m\u001b[0m\u001b[0m\n\u001b[0;32m    249\u001b[0m     \u001b[1;31m# Create the parser.\u001b[0m\u001b[1;33m\u001b[0m\u001b[1;33m\u001b[0m\u001b[0m\n\u001b[1;32m--> 250\u001b[1;33m     \u001b[0mparser\u001b[0m \u001b[1;33m=\u001b[0m \u001b[0mTextFileReader\u001b[0m\u001b[1;33m(\u001b[0m\u001b[0mfilepath_or_buffer\u001b[0m\u001b[1;33m,\u001b[0m \u001b[1;33m**\u001b[0m\u001b[0mkwds\u001b[0m\u001b[1;33m)\u001b[0m\u001b[1;33m\u001b[0m\u001b[0m\n\u001b[0m\u001b[0;32m    251\u001b[0m \u001b[1;33m\u001b[0m\u001b[0m\n\u001b[0;32m    252\u001b[0m     \u001b[1;32mif\u001b[0m \u001b[1;33m(\u001b[0m\u001b[0mnrows\u001b[0m \u001b[1;32mis\u001b[0m \u001b[1;32mnot\u001b[0m \u001b[0mNone\u001b[0m\u001b[1;33m)\u001b[0m \u001b[1;32mand\u001b[0m \u001b[1;33m(\u001b[0m\u001b[0mchunksize\u001b[0m \u001b[1;32mis\u001b[0m \u001b[1;32mnot\u001b[0m \u001b[0mNone\u001b[0m\u001b[1;33m)\u001b[0m\u001b[1;33m:\u001b[0m\u001b[1;33m\u001b[0m\u001b[0m\n",
      "\u001b[1;32mC:\\Anaconda\\envs\\py27\\lib\\site-packages\\pandas\\io\\parsers.pyc\u001b[0m in \u001b[0;36m__init__\u001b[1;34m(self, f, engine, **kwds)\u001b[0m\n\u001b[0;32m    564\u001b[0m             \u001b[0mself\u001b[0m\u001b[1;33m.\u001b[0m\u001b[0moptions\u001b[0m\u001b[1;33m[\u001b[0m\u001b[1;34m'has_index_names'\u001b[0m\u001b[1;33m]\u001b[0m \u001b[1;33m=\u001b[0m \u001b[0mkwds\u001b[0m\u001b[1;33m[\u001b[0m\u001b[1;34m'has_index_names'\u001b[0m\u001b[1;33m]\u001b[0m\u001b[1;33m\u001b[0m\u001b[0m\n\u001b[0;32m    565\u001b[0m \u001b[1;33m\u001b[0m\u001b[0m\n\u001b[1;32m--> 566\u001b[1;33m         \u001b[0mself\u001b[0m\u001b[1;33m.\u001b[0m\u001b[0m_make_engine\u001b[0m\u001b[1;33m(\u001b[0m\u001b[0mself\u001b[0m\u001b[1;33m.\u001b[0m\u001b[0mengine\u001b[0m\u001b[1;33m)\u001b[0m\u001b[1;33m\u001b[0m\u001b[0m\n\u001b[0m\u001b[0;32m    567\u001b[0m \u001b[1;33m\u001b[0m\u001b[0m\n\u001b[0;32m    568\u001b[0m     \u001b[1;32mdef\u001b[0m \u001b[0m_get_options_with_defaults\u001b[0m\u001b[1;33m(\u001b[0m\u001b[0mself\u001b[0m\u001b[1;33m,\u001b[0m \u001b[0mengine\u001b[0m\u001b[1;33m)\u001b[0m\u001b[1;33m:\u001b[0m\u001b[1;33m\u001b[0m\u001b[0m\n",
      "\u001b[1;32mC:\\Anaconda\\envs\\py27\\lib\\site-packages\\pandas\\io\\parsers.pyc\u001b[0m in \u001b[0;36m_make_engine\u001b[1;34m(self, engine)\u001b[0m\n\u001b[0;32m    703\u001b[0m     \u001b[1;32mdef\u001b[0m \u001b[0m_make_engine\u001b[0m\u001b[1;33m(\u001b[0m\u001b[0mself\u001b[0m\u001b[1;33m,\u001b[0m \u001b[0mengine\u001b[0m\u001b[1;33m=\u001b[0m\u001b[1;34m'c'\u001b[0m\u001b[1;33m)\u001b[0m\u001b[1;33m:\u001b[0m\u001b[1;33m\u001b[0m\u001b[0m\n\u001b[0;32m    704\u001b[0m         \u001b[1;32mif\u001b[0m \u001b[0mengine\u001b[0m \u001b[1;33m==\u001b[0m \u001b[1;34m'c'\u001b[0m\u001b[1;33m:\u001b[0m\u001b[1;33m\u001b[0m\u001b[0m\n\u001b[1;32m--> 705\u001b[1;33m             \u001b[0mself\u001b[0m\u001b[1;33m.\u001b[0m\u001b[0m_engine\u001b[0m \u001b[1;33m=\u001b[0m \u001b[0mCParserWrapper\u001b[0m\u001b[1;33m(\u001b[0m\u001b[0mself\u001b[0m\u001b[1;33m.\u001b[0m\u001b[0mf\u001b[0m\u001b[1;33m,\u001b[0m \u001b[1;33m**\u001b[0m\u001b[0mself\u001b[0m\u001b[1;33m.\u001b[0m\u001b[0moptions\u001b[0m\u001b[1;33m)\u001b[0m\u001b[1;33m\u001b[0m\u001b[0m\n\u001b[0m\u001b[0;32m    706\u001b[0m         \u001b[1;32melse\u001b[0m\u001b[1;33m:\u001b[0m\u001b[1;33m\u001b[0m\u001b[0m\n\u001b[0;32m    707\u001b[0m             \u001b[1;32mif\u001b[0m \u001b[0mengine\u001b[0m \u001b[1;33m==\u001b[0m \u001b[1;34m'python'\u001b[0m\u001b[1;33m:\u001b[0m\u001b[1;33m\u001b[0m\u001b[0m\n",
      "\u001b[1;32mC:\\Anaconda\\envs\\py27\\lib\\site-packages\\pandas\\io\\parsers.pyc\u001b[0m in \u001b[0;36m__init__\u001b[1;34m(self, src, **kwds)\u001b[0m\n\u001b[0;32m   1070\u001b[0m         \u001b[0mkwds\u001b[0m\u001b[1;33m[\u001b[0m\u001b[1;34m'allow_leading_cols'\u001b[0m\u001b[1;33m]\u001b[0m \u001b[1;33m=\u001b[0m \u001b[0mself\u001b[0m\u001b[1;33m.\u001b[0m\u001b[0mindex_col\u001b[0m \u001b[1;32mis\u001b[0m \u001b[1;32mnot\u001b[0m \u001b[0mFalse\u001b[0m\u001b[1;33m\u001b[0m\u001b[0m\n\u001b[0;32m   1071\u001b[0m \u001b[1;33m\u001b[0m\u001b[0m\n\u001b[1;32m-> 1072\u001b[1;33m         \u001b[0mself\u001b[0m\u001b[1;33m.\u001b[0m\u001b[0m_reader\u001b[0m \u001b[1;33m=\u001b[0m \u001b[0m_parser\u001b[0m\u001b[1;33m.\u001b[0m\u001b[0mTextReader\u001b[0m\u001b[1;33m(\u001b[0m\u001b[0msrc\u001b[0m\u001b[1;33m,\u001b[0m \u001b[1;33m**\u001b[0m\u001b[0mkwds\u001b[0m\u001b[1;33m)\u001b[0m\u001b[1;33m\u001b[0m\u001b[0m\n\u001b[0m\u001b[0;32m   1073\u001b[0m \u001b[1;33m\u001b[0m\u001b[0m\n\u001b[0;32m   1074\u001b[0m         \u001b[1;31m# XXX\u001b[0m\u001b[1;33m\u001b[0m\u001b[1;33m\u001b[0m\u001b[0m\n",
      "\u001b[1;32mpandas\\parser.pyx\u001b[0m in \u001b[0;36mpandas.parser.TextReader.__cinit__ (pandas\\parser.c:3173)\u001b[1;34m()\u001b[0m\n",
      "\u001b[1;32mpandas\\parser.pyx\u001b[0m in \u001b[0;36mpandas.parser.TextReader._setup_parser_source (pandas\\parser.c:5912)\u001b[1;34m()\u001b[0m\n",
      "\u001b[1;31mIOError\u001b[0m: File geo/DOHMH_New_York_City_Restaurant_Inspection_Results.csv does not exist"
     ]
    }
   ],
   "source": [
    "rest_name_df=pd.read_csv('geo/DOHMH_New_York_City_Restaurant_Inspection_Results.csv')"
   ]
  },
  {
   "cell_type": "code",
   "execution_count": null,
   "metadata": {
    "collapsed": false
   },
   "outputs": [],
   "source": [
    "len(rest_name_df)"
   ]
  },
  {
   "cell_type": "code",
   "execution_count": null,
   "metadata": {
    "collapsed": false
   },
   "outputs": [],
   "source": [
    "rest_name_df.head()"
   ]
  },
  {
   "cell_type": "code",
   "execution_count": null,
   "metadata": {
    "collapsed": true
   },
   "outputs": [],
   "source": [
    "rest_name_df=rest_name_df[['DBA','SCORE','GRADE','CUISINE DESCRIPTION','PHONE','CAMIS']]"
   ]
  },
  {
   "cell_type": "code",
   "execution_count": null,
   "metadata": {
    "collapsed": false
   },
   "outputs": [],
   "source": [
    "rest_groups=rest_name_df.groupby(['CAMIS'])\n",
    "rest_single=rest_groups.max()\n",
    "rest_single=rest_single.reset_index()\n",
    "rest_single.head()"
   ]
  },
  {
   "cell_type": "code",
   "execution_count": null,
   "metadata": {
    "collapsed": false
   },
   "outputs": [],
   "source": [
    "merged_res=pd.merge(rest_geo_df,rest_single,on='CAMIS',how='inner')"
   ]
  },
  {
   "cell_type": "code",
   "execution_count": null,
   "metadata": {
    "collapsed": false
   },
   "outputs": [],
   "source": [
    "merged_res.head()"
   ]
  },
  {
   "cell_type": "code",
   "execution_count": null,
   "metadata": {
    "collapsed": true
   },
   "outputs": [],
   "source": [
    "merged_res.to_csv('geo/res_merged.csv',index=False)"
   ]
  }
 ],
 "metadata": {
  "kernelspec": {
   "display_name": "Python 2",
   "language": "python",
   "name": "python2"
  },
  "language_info": {
   "codemirror_mode": {
    "name": "ipython",
    "version": 2
   },
   "file_extension": ".py",
   "mimetype": "text/x-python",
   "name": "python",
   "nbconvert_exporter": "python",
   "pygments_lexer": "ipython2",
   "version": "2.7.10"
  }
 },
 "nbformat": 4,
 "nbformat_minor": 0
}
